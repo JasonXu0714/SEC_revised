{
 "cells": [
  {
   "cell_type": "code",
   "execution_count": 1,
   "metadata": {},
   "outputs": [],
   "source": [
    "import csv\n",
    "import re\n",
    "import requests\n",
    "\n",
    "\n",
    "def extract_proxies(url, filename):\n",
    "    \"\"\"\n",
    "    Extracts proxy IP addresses and ports from a given URL and writes them to a CSV file.\n",
    "\n",
    "    Args:\n",
    "        url (str): The URL to scrape for proxies.\n",
    "        filename (str): The name of the CSV file to write the proxies to.\n",
    "    \"\"\"\n",
    "    # Send a GET request to the URL\n",
    "    response = requests.get(url)\n",
    "\n",
    "    # Extract the proxies using a regular expression\n",
    "    proxies = re.findall(r'\\d{1,3}\\.\\d{1,3}\\.\\d{1,3}\\.\\d{1,3}:\\d+', response.text)\n",
    "\n",
    "    # Write the proxies to a CSV file\n",
    "    with open(filename, 'w', newline='') as csvfile:\n",
    "        writer = csv.writer(csvfile)\n",
    "        for proxy in proxies:\n",
    "            writer.writerow([proxy])\n",
    "\n",
    "\n",
    "extract_proxies('https://free-proxy-list.net/', 'proxies.csv')"
   ]
  }
 ],
 "metadata": {
  "kernelspec": {
   "display_name": "sec",
   "language": "python",
   "name": "python3"
  },
  "language_info": {
   "codemirror_mode": {
    "name": "ipython",
    "version": 3
   },
   "file_extension": ".py",
   "mimetype": "text/x-python",
   "name": "python",
   "nbconvert_exporter": "python",
   "pygments_lexer": "ipython3",
   "version": "3.10.13"
  }
 },
 "nbformat": 4,
 "nbformat_minor": 2
}
