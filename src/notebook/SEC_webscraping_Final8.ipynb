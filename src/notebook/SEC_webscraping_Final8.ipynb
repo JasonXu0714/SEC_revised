{
 "cells": [
  {
   "cell_type": "code",
   "execution_count": 1,
   "id": "6e3a36a0",
   "metadata": {},
   "outputs": [],
   "source": [
    "#pip install edgartools"
   ]
  },
  {
   "cell_type": "code",
   "execution_count": 2,
   "id": "3a064c47",
   "metadata": {},
   "outputs": [
    {
     "data": {
      "text/html": [
       "<pre style=\"white-space:pre;overflow-x:auto;line-height:normal;font-family:Menlo,'DejaVu Sans Mono',consolas,'Courier New',monospace\"><span style=\"color: #7fbfbf; text-decoration-color: #7fbfbf\">[19:05:56] </span><span style=\"color: #000080; text-decoration-color: #000080\">INFO    </span> Identity of the Edgar REST client set to <span style=\"font-weight: bold\">[</span>jason.xu071498@gmail.com<span style=\"font-weight: bold\">]</span>                 <a href=\"file:///Users/yanzhe.li/anaconda3/envs/sec/lib/python3.10/site-packages/edgar/core.py\" target=\"_blank\"><span style=\"color: #7f7f7f; text-decoration-color: #7f7f7f\">core.py</span></a><span style=\"color: #7f7f7f; text-decoration-color: #7f7f7f\">:</span><a href=\"file:///Users/yanzhe.li/anaconda3/envs/sec/lib/python3.10/site-packages/edgar/core.py#153\" target=\"_blank\"><span style=\"color: #7f7f7f; text-decoration-color: #7f7f7f\">153</span></a>\n",
       "</pre>\n"
      ],
      "text/plain": [
       "\u001b[2;36m[19:05:56]\u001b[0m\u001b[2;36m \u001b[0m\u001b[34mINFO    \u001b[0m Identity of the Edgar REST client set to \u001b[1m[\u001b[0mjason.xu071498@gmail.com\u001b[1m]\u001b[0m                 \u001b]8;id=439994;file:///Users/yanzhe.li/anaconda3/envs/sec/lib/python3.10/site-packages/edgar/core.py\u001b\\\u001b[2mcore.py\u001b[0m\u001b]8;;\u001b\\\u001b[2m:\u001b[0m\u001b]8;id=932349;file:///Users/yanzhe.li/anaconda3/envs/sec/lib/python3.10/site-packages/edgar/core.py#153\u001b\\\u001b[2m153\u001b[0m\u001b]8;;\u001b\\\n"
      ]
     },
     "metadata": {},
     "output_type": "display_data"
    }
   ],
   "source": [
    "# !pip3 install edgartools\n",
    "# !pip3 install pandas\n",
    "# !pip3 install polars\n",
    "# !pip install tqdm\n",
    "# !pip install html5lib\n",
    "from tqdm import tqdm\n",
    "import pandas as pd\n",
    "import polars as pl\n",
    "from edgar import set_identity\n",
    "set_identity(\"jason.xu071498@gmail.com\")\n",
    "from edgar import *\n",
    "import time\n",
    "import pickle\n",
    "import sys"
   ]
  },
  {
   "cell_type": "code",
   "execution_count": 3,
   "id": "b56b8278",
   "metadata": {},
   "outputs": [],
   "source": [
    "START_YEAR = 2022\n",
    "END_YEAR = 2023"
   ]
  },
  {
   "cell_type": "code",
   "execution_count": 4,
   "id": "af811a58",
   "metadata": {},
   "outputs": [],
   "source": [
    "# Fetch filings for the specified year range\n",
    "# filing_10k = Company(\"MCO\").get_filings(form=\"10-K\").latest(40)\n",
    "# Filter for 10-K forms\n",
    "# filing_10k = filings.filter(form=[\"10-K\"])\n",
    "filing_10k_by_year = {}\n",
    "for year in range(START_YEAR, END_YEAR+1):\n",
    "    # filing_10k = get_filings(year=year).filter(form=[\"10-K\"])\n",
    "    time.sleep(1)\n",
    "    filing_10k = get_filings(year=year).filter(form=[\"10-K\"]).latest(10)\n",
    "    filing_10k_by_year[year] = filing_10k #?"
   ]
  },
  {
   "cell_type": "code",
   "execution_count": 5,
   "id": "91aa02fc",
   "metadata": {},
   "outputs": [],
   "source": [
    "def contains_trade_secret_column(df):\n",
    "    # List of column names to search for\n",
    "    search_columns = [\"trade secret\", \"trade secrets\", \"net trade secret\", \"net trade secrets\", \"trade secrets (not subject to amortization)\", \"trade secrecy\", \"net trade secrecy\"]\n",
    "\n",
    "    # Filter rows where the first column is a string, then check if any value matches the search_columns list\n",
    "    filtered_df = df[df.iloc[:, 0].apply(lambda x: isinstance(x, str))] #?\n",
    "    result = None\n",
    "    try:\n",
    "        result = any(filtered_df.iloc[:, 0].str.lower().isin(search_columns))\n",
    "    except:\n",
    "        return None\n",
    "    return result"
   ]
  },
  {
   "cell_type": "code",
   "execution_count": 6,
   "id": "7afd73bb",
   "metadata": {},
   "outputs": [],
   "source": [
    "def contains_trade_secret(content):\n",
    "    # Check if 'trade secret' or 'trade secrecy' is in the content\n",
    "    return 'trade secret' in content.lower() or 'trade secrecy' in content.lower()"
   ]
  },
  {
   "cell_type": "code",
   "execution_count": 7,
   "id": "1222a93b",
   "metadata": {},
   "outputs": [
    {
     "name": "stderr",
     "output_type": "stream",
     "text": [
      "  0%|          | 0/2 [00:00<?, ?it/s]"
     ]
    },
    {
     "name": "stdout",
     "output_type": "stream",
     "text": [
      "https://www.sec.gov/Archives/edgar/data/1883799/000149315222037163/form10-k.htm\n",
      "https://www.sec.gov/Archives/edgar/data/1374881/000147793222009583/king_10k.htm\n",
      "https://www.sec.gov/Archives/edgar/data/72633/000007263322000015/tenk2022.htm\n",
      "https://www.sec.gov/Archives/edgar/data/1286459/000147793222009557/afom_10k.htm\n",
      "https://www.sec.gov/Archives/edgar/data/1508348/000143774922029891/acan20220930_10k.htm\n",
      "https://www.sec.gov/Archives/edgar/data/10048/000001004822000029/brn-20220930.htm\n",
      "https://www.sec.gov/Archives/edgar/data/1362516/000109181822000187/clri-20220930.htm.htm\n",
      "https://www.sec.gov/Archives/edgar/data/1636051/000118518522001464/fusegroup20220930_10k.htm\n",
      "https://www.sec.gov/Archives/edgar/data/1341726/000183988222030611/gspe-10k_093022.htm\n",
      "https://www.sec.gov/Archives/edgar/data/1853314/000121390022083609/f10k2022_gesher1acq.htm\n"
     ]
    },
    {
     "name": "stderr",
     "output_type": "stream",
     "text": [
      " 50%|█████     | 1/2 [00:13<00:13, 13.08s/it]"
     ]
    },
    {
     "name": "stdout",
     "output_type": "stream",
     "text": [
      "https://www.sec.gov/Archives/edgar/data/711404/000071140423000072/coo-20231031.htm\n",
      "https://www.sec.gov/Archives/edgar/data/1596783/000159678323000185/ctlt-20230630.htm\n",
      "https://www.sec.gov/Archives/edgar/data/1624140/000101738623000407/jmkj_2023sept30-10k.htm\n",
      "https://www.sec.gov/Archives/edgar/data/1868878/000186887823000081/gbdc-20230930.htm\n",
      "https://www.sec.gov/Archives/edgar/data/1721056/000147793223009040/hosu_10k.htm\n",
      "https://www.sec.gov/Archives/edgar/data/1133062/000114036123057011/ef20012456_10k.htm\n",
      "https://www.sec.gov/Archives/edgar/data/788329/000114036123056923/jout-20230929.htm\n",
      "https://www.sec.gov/Archives/edgar/data/58361/000162828023041119/lee-20230924.htm\n",
      "https://www.sec.gov/Archives/edgar/data/1383414/000095017023068909/pnnt-20230930.htm\n",
      "https://www.sec.gov/Archives/edgar/data/1504619/000095017023068908/pflt-20230930.htm\n"
     ]
    },
    {
     "name": "stderr",
     "output_type": "stream",
     "text": [
      "100%|██████████| 2/2 [00:29<00:00, 14.80s/it]\n"
     ]
    }
   ],
   "source": [
    "def download_attachments(filing_10k_by_year, file_name, year):\n",
    "    # Initialize an empty dictionary to store attachments.\n",
    "    filing_attachments = {}  # key: attachment URL, value: file object of the html attachment\n",
    "\n",
    "    # Loop through each filing in the provided list of 10-K filings.\n",
    "    for _, filing in enumerate(filing_10k_by_year[year]):\n",
    "        # Check if the current filing has any attachments.\n",
    "        if filing.attachments:\n",
    "            # Select the first attachment of the current filing.\n",
    "            first_attachment = filing.attachments[0]\n",
    "            print(first_attachment.url)\n",
    "            # Download the attachment and store it in the dictionary with its URL as the key.\n",
    "            filing_attachments[first_attachment.url] = first_attachment.download()\n",
    "            time.sleep(1)\n",
    "\n",
    "    # Open a file with the given file name in write-binary mode.\n",
    "    with open(f'{file_name}_{year}.pkl', 'wb') as file:\n",
    "        # Serialize and save the dictionary of attachments to the file.\n",
    "        pickle.dump(filing_attachments, file)\n",
    "\n",
    "\n",
    "def load_attachments(file_name, year):\n",
    "    # Open the specified file in read-binary mode.\n",
    "    with open(f'{file_name}_{year}.pkl', 'rb') as file:\n",
    "        # Load and deserialize the data from the file.\n",
    "        loaded_data = pickle.load(file)\n",
    "        # Return the deserialized data.\n",
    "        return loaded_data\n",
    "\n",
    "FILE_NAME = \"filing_attachments\"\n",
    "\n",
    "for i in tqdm(range(START_YEAR, END_YEAR+1)): # inclusive\n",
    "    time.sleep(1)\n",
    "    download_attachments(filing_10k_by_year, FILE_NAME, i) # ONLY CALL THIS FUNCTION WHEN YOU NEED TO RE-DOWNLOAD ATTACHMENTS"
   ]
  },
  {
   "cell_type": "code",
   "execution_count": null,
   "id": "af73628d",
   "metadata": {},
   "outputs": [],
   "source": [
    "# Create an empty DataFrame with specified columns\n",
    "results_df =  pd.DataFrame(columns=[\"company_name\", \"filing_date\", \"cik\", \"trade_secrets\", \"net_trade_secrets\",\"indicator\", \"url\", \"accession_no\"])\n",
    "\n",
    "# Assuming filing_10k is a list of filings\n",
    "for year in range(START_YEAR, END_YEAR+1):\n",
    "    stored_attachments = load_attachments(FILE_NAME,year)\n",
    "    for i, filing in enumerate(filing_10k_by_year[year]):\n",
    "        filing_date = filing.filing_date\n",
    "        # Note: write a script to scrape conformed_year_dict\n",
    "        # conformed_year = conformed_year_dict.get(filing.accession_no)\n",
    "        cik = filing.cik\n",
    "        company_name = filing.company\n",
    "        indicator = 0\n",
    "        url = None\n",
    "        accession_no = filing.accession_no\n",
    "\n",
    "        if filing.attachments:\n",
    "            list_df = None\n",
    "            try:\n",
    "                first_attachment_url = filing.attachments[0].url\n",
    "                print(type(url))\n",
    "                content = stored_attachments.get(first_attachment_url)\n",
    "                list_df = pd.read_html(content)\n",
    "                url = first_attachment_url\n",
    "\n",
    "                if contains_trade_secret(content):\n",
    "                    indicator = 1\n",
    "\n",
    "\n",
    "            except Exception as e:\n",
    "                print(f'Error happened while calling read_html() for {filing_date}, {company_name}: {str(e)}')\n",
    "                list_df = []\n",
    "\n",
    "            # Variable to store the DataFrame if found\n",
    "            target_trade_secret_form = None\n",
    "\n",
    "            # Iterate over each DataFrame in the list\n",
    "            for form_df in list_df:\n",
    "                # Check if the string 'trade secret' is present in the DataFrame (case-insensitive)\n",
    "                if 'trade secret' in form_df.to_markdown().lower():\n",
    "                # if contains_trade_secret_column(form_df):\n",
    "                    # If found, assign this DataFrame to variable 'a' and break the loop\n",
    "                    target_trade_secret_form = form_df\n",
    "                    break\n",
    "\n",
    "            # Check if a DataFrame containing 'trade secret' was found\n",
    "            if target_trade_secret_form is not None:\n",
    "                # Convert the pandas DataFrame 'target_k10_form' to a Polars DataFrame for further processing\n",
    "                target_trade_secret_form = pl.from_pandas(target_trade_secret_form)\n",
    "                trade_secrets: float = None\n",
    "                net_trade_secrets: float = None\n",
    "                # Iterate over each row in the Polars DataFrame\n",
    "                for form_row in target_trade_secret_form.rows():\n",
    "                    # Check if the first element of the row is not null or empty\n",
    "                    if form_row[0]:\n",
    "                        # Check if the string 'secret' is present in the first element (case-insensitive)\n",
    "                        if 'secret' in form_row[0]:\n",
    "                            # Iterate over each element in the current row\n",
    "                            for item in form_row:\n",
    "                                try:\n",
    "                                    # Attempt to convert the element to a float and check if it's greater than 0\n",
    "                                    if float(item) > 0:\n",
    "                                        if form_row[0].lower() == \"net trade secret\" or form_row[0].lower() == \"net trade secrets\" or  form_row[0].lower() == \"net trade secrecy\":\n",
    "                                            net_trade_secrets = float(item)\n",
    "                                            break\n",
    "                                        # elif form_row[0].lower() == \"trade secret\" or form_row[0].lower() == \"trade secrets\" or form_row[0].lower() == \"trade secrets (not subject to amortization)\":\n",
    "                                        elif  \"trade secret\" in form_row[0].lower() or \"trade secrecy\"  in form_row[0].lower():\n",
    "                                            try:\n",
    "                                                trade_secrets = float(item)\n",
    "                                            except Exception as e:\n",
    "                                                print(f\"Edge case: {filing_date} {cik} {company_name}\") # debug only\n",
    "                                                break\n",
    "                                            break\n",
    "                                        else:\n",
    "                                            print(form_row[0])\n",
    "                                            print(\"Unexpected case\") # debug only\n",
    "                                except ValueError:\n",
    "                                    # If an error occurs (e.g., when the element cannot be converted to a float), continue to the next element\n",
    "                                    continue\n",
    "                                except TypeError:\n",
    "                                    continue\n",
    "\n",
    "                new_row = pd.DataFrame([{\n",
    "                    \"company_name\": company_name,\n",
    "                    \"filing_date\": filing_date,\n",
    "                    \"cik\": cik,\n",
    "                    \"trade_secrets\": trade_secrets,\n",
    "                    \"net_trade_secrets\": net_trade_secrets,\n",
    "                    \"indicator\": indicator,\n",
    "                    \"url\": url,\n",
    "                    \"accession_no\": accession_no\n",
    "                }])\n",
    "                # Concatenate the new row to the results DataFrame\n",
    "                results_df = pd.concat([results_df, new_row], ignore_index=True)\n",
    "            else:\n",
    "                new_row = pd.DataFrame([{\n",
    "                    \"company_name\": company_name,\n",
    "                    \"filing_date\": filing_date,\n",
    "                    \"cik\": cik,\n",
    "                    \"trade_secrets\": None,\n",
    "                    \"net_trade_secrets\": None,\n",
    "                    \"indicator\": indicator,\n",
    "                    \"url\": url,\n",
    "                    \"accession_no\": accession_no\n",
    "                }])\n",
    "                # Concatenate the new row to the results DataFrame\n",
    "                results_df = pd.concat([results_df, new_row], ignore_index=True)\n",
    "                print(f\"No DataFrame contains 'trade secret' in filing {i}.\")\n",
    "\n",
    "# Display the final results DataFrame\n",
    "print(results)\n"
   ]
  },
  {
   "cell_type": "code",
   "execution_count": null,
   "id": "21f133b6",
   "metadata": {},
   "outputs": [],
   "source": [
    "results_df"
   ]
  },
  {
   "cell_type": "code",
   "execution_count": 10,
   "id": "8e203557",
   "metadata": {},
   "outputs": [],
   "source": [
    "results_df = pl.from_pandas(results_df)"
   ]
  },
  {
   "cell_type": "code",
   "execution_count": 17,
   "id": "4b90e5de",
   "metadata": {},
   "outputs": [],
   "source": [
    "urls = results_df['url'].to_list()"
   ]
  },
  {
   "cell_type": "code",
   "execution_count": 23,
   "id": "b5058678",
   "metadata": {},
   "outputs": [
    {
     "data": {
      "text/html": [
       "<pre style=\"white-space:pre;overflow-x:auto;line-height:normal;font-family:Menlo,'DejaVu Sans Mono',consolas,'Courier New',monospace\"></pre>\n"
      ],
      "text/plain": []
     },
     "metadata": {},
     "output_type": "display_data"
    },
    {
     "data": {
      "text/plain": [
       "╭──────────────────────────────────────────────────── Filings ────────────────────────────────────────────────────╮\n",
       "│                                                                                                                 │\n",
       "│  \u001b[1m \u001b[0m\u001b[1m \u001b[0m\u001b[1m \u001b[0m \u001b[1;38;5;71m \u001b[0m\u001b[1;38;5;71mform\u001b[0m\u001b[1;38;5;71m \u001b[0m \u001b[1m \u001b[0m\u001b[1mcompany                        \u001b[0m\u001b[1m \u001b[0m \u001b[1m \u001b[0m\u001b[1mcik    \u001b[0m\u001b[1m \u001b[0m \u001b[1;38;5;39m \u001b[0m\u001b[1;38;5;39mfiling_date\u001b[0m\u001b[1;38;5;39m \u001b[0m \u001b[1m \u001b[0m\u001b[1maccession_number    \u001b[0m\u001b[1m \u001b[0m                    │\n",
       "│  ───────────────────────────────────────────────────────────────────────────────────────────                    │\n",
       "│  \u001b[1m \u001b[0m\u001b[1m0\u001b[0m\u001b[1m \u001b[0m \u001b[1;38;5;71m \u001b[0m\u001b[1;38;5;71m10-K\u001b[0m\u001b[1;38;5;71m \u001b[0m \u001b[1m \u001b[0m\u001b[1mACCENTIA BIOPHARMACEUTICALS INC\u001b[0m\u001b[1m \u001b[0m \u001b[1m \u001b[0m\u001b[1m1310094\u001b[0m\u001b[1m \u001b[0m \u001b[1;38;5;39m \u001b[0m\u001b[1;38;5;39m2006-12-29 \u001b[0m\u001b[1;38;5;39m \u001b[0m \u001b[1m \u001b[0m\u001b[1m0001193125-06-261727\u001b[0m\u001b[1m \u001b[0m                    │\n",
       "│   1  \u001b[38;5;71m \u001b[0m\u001b[38;5;71m10-K\u001b[0m\u001b[38;5;71m \u001b[0m  ACTIVIDENTITY CORP                1183941  \u001b[38;5;39m \u001b[0m\u001b[38;5;39m2006-12-29 \u001b[0m\u001b[38;5;39m \u001b[0m  0001193125-06-261251                     │\n",
       "│  \u001b[1m \u001b[0m\u001b[1m2\u001b[0m\u001b[1m \u001b[0m \u001b[1;38;5;71m \u001b[0m\u001b[1;38;5;71m10-K\u001b[0m\u001b[1;38;5;71m \u001b[0m \u001b[1m \u001b[0m\u001b[1mALLSTATES WORLDCARGO INC       \u001b[0m\u001b[1m \u001b[0m \u001b[1m \u001b[0m\u001b[1m1072293\u001b[0m\u001b[1m \u001b[0m \u001b[1;38;5;39m \u001b[0m\u001b[1;38;5;39m2006-12-29 \u001b[0m\u001b[1;38;5;39m \u001b[0m \u001b[1m \u001b[0m\u001b[1m0001260415-06-000061\u001b[0m\u001b[1m \u001b[0m                    │\n",
       "│   3  \u001b[38;5;71m \u001b[0m\u001b[38;5;71m10-K\u001b[0m\u001b[38;5;71m \u001b[0m  ALTIGEN COMMUNICATIONS INC        1003607  \u001b[38;5;39m \u001b[0m\u001b[38;5;39m2006-12-29 \u001b[0m\u001b[38;5;39m \u001b[0m  0001104659-06-084411                     │\n",
       "│  \u001b[1m \u001b[0m\u001b[1m4\u001b[0m\u001b[1m \u001b[0m \u001b[1;38;5;71m \u001b[0m\u001b[1;38;5;71m10-K\u001b[0m\u001b[1;38;5;71m \u001b[0m \u001b[1m \u001b[0m\u001b[1mAMCON DISTRIBUTING CO          \u001b[0m\u001b[1m \u001b[0m \u001b[1m \u001b[0m\u001b[1m928465 \u001b[0m\u001b[1m \u001b[0m \u001b[1;38;5;39m \u001b[0m\u001b[1;38;5;39m2006-12-29 \u001b[0m\u001b[1;38;5;39m \u001b[0m \u001b[1m \u001b[0m\u001b[1m0000928465-06-000077\u001b[0m\u001b[1m \u001b[0m                    │\n",
       "│   5  \u001b[38;5;71m \u001b[0m\u001b[38;5;71m10-K\u001b[0m\u001b[38;5;71m \u001b[0m  APPLE COMPUTER INC                320193   \u001b[38;5;39m \u001b[0m\u001b[38;5;39m2006-12-29 \u001b[0m\u001b[38;5;39m \u001b[0m  0001104659-06-084288                     │\n",
       "│  \u001b[1m \u001b[0m\u001b[1m6\u001b[0m\u001b[1m \u001b[0m \u001b[1;38;5;71m \u001b[0m\u001b[1;38;5;71m10-K\u001b[0m\u001b[1;38;5;71m \u001b[0m \u001b[1m \u001b[0m\u001b[1mARK RESTAURANTS CORP           \u001b[0m\u001b[1m \u001b[0m \u001b[1m \u001b[0m\u001b[1m779544 \u001b[0m\u001b[1m \u001b[0m \u001b[1;38;5;39m \u001b[0m\u001b[1;38;5;39m2006-12-29 \u001b[0m\u001b[1;38;5;39m \u001b[0m \u001b[1m \u001b[0m\u001b[1m0000930413-06-008983\u001b[0m\u001b[1m \u001b[0m                    │\n",
       "│   7  \u001b[38;5;71m \u001b[0m\u001b[38;5;71m10-K\u001b[0m\u001b[38;5;71m \u001b[0m  BIOANALYTICAL SYSTEMS INC         720154   \u001b[38;5;39m \u001b[0m\u001b[38;5;39m2006-12-29 \u001b[0m\u001b[38;5;39m \u001b[0m  0000927946-06-000172                     │\n",
       "│  \u001b[1m \u001b[0m\u001b[1m8\u001b[0m\u001b[1m \u001b[0m \u001b[1;38;5;71m \u001b[0m\u001b[1;38;5;71m10-K\u001b[0m\u001b[1;38;5;71m \u001b[0m \u001b[1m \u001b[0m\u001b[1mBrooklyn Federal Bancorp, Inc. \u001b[0m\u001b[1m \u001b[0m \u001b[1m \u001b[0m\u001b[1m1310313\u001b[0m\u001b[1m \u001b[0m \u001b[1;38;5;39m \u001b[0m\u001b[1;38;5;39m2006-12-29 \u001b[0m\u001b[1;38;5;39m \u001b[0m \u001b[1m \u001b[0m\u001b[1m0001188112-06-003824\u001b[0m\u001b[1m \u001b[0m                    │\n",
       "│   9  \u001b[38;5;71m \u001b[0m\u001b[38;5;71m10-K\u001b[0m\u001b[38;5;71m \u001b[0m  CATAPULT COMMUNICATIONS CORP      1063085  \u001b[38;5;39m \u001b[0m\u001b[38;5;39m2006-12-29 \u001b[0m\u001b[38;5;39m \u001b[0m  0000891618-06-000545                     │\n",
       "│                                                                                                                 │\n",
       "│ Showing 10 of 10 filings                                                                                        │\n",
       "╰─────────────────────────────────────────────────────────────────────────────────────────────────────────────────╯"
      ]
     },
     "execution_count": 23,
     "metadata": {},
     "output_type": "execute_result"
    }
   ],
   "source": [
    "filing_10k_by_year[2006]"
   ]
  },
  {
   "cell_type": "code",
   "execution_count": 26,
   "id": "b70e6640",
   "metadata": {},
   "outputs": [
    {
     "data": {
      "text/html": [
       "<pre style=\"white-space:pre;overflow-x:auto;line-height:normal;font-family:Menlo,'DejaVu Sans Mono',consolas,'Courier New',monospace\"><span style=\"color: #7fbfbf; text-decoration-color: #7fbfbf\">[22:58:34] </span><span style=\"color: #000080; text-decoration-color: #000080\">INFO    </span> HTTP Request: <span style=\"color: #808000; text-decoration-color: #808000; font-weight: bold\">GET</span>                                                               <a href=\"file:///home/jason/anaconda3/lib/python3.10/site-packages/httpx/_client.py\" target=\"_blank\"><span style=\"color: #7f7f7f; text-decoration-color: #7f7f7f\">_client.py</span></a><span style=\"color: #7f7f7f; text-decoration-color: #7f7f7f\">:</span><a href=\"file:///home/jason/anaconda3/lib/python3.10/site-packages/httpx/_client.py#1013\" target=\"_blank\"><span style=\"color: #7f7f7f; text-decoration-color: #7f7f7f\">1013</span></a>\n",
       "<span style=\"color: #7fbfbf; text-decoration-color: #7fbfbf\">           </span>         <span style=\"color: #0000ff; text-decoration-color: #0000ff; text-decoration: underline\">https://www.sec.gov/Archives/edgar/data/720154/0000927946-06-000172-index.html</span>  <span style=\"color: #7f7f7f; text-decoration-color: #7f7f7f\">               </span>\n",
       "<span style=\"color: #7fbfbf; text-decoration-color: #7fbfbf\">           </span>         <span style=\"color: #008000; text-decoration-color: #008000\">\"HTTP/1.1 200 OK\"</span>                                                               <span style=\"color: #7f7f7f; text-decoration-color: #7f7f7f\">               </span>\n",
       "</pre>\n"
      ],
      "text/plain": [
       "\u001b[2;36m[22:58:34]\u001b[0m\u001b[2;36m \u001b[0m\u001b[34mINFO    \u001b[0m HTTP Request: \u001b[1;33mGET\u001b[0m                                                               \u001b]8;id=441157;file:///home/jason/anaconda3/lib/python3.10/site-packages/httpx/_client.py\u001b\\\u001b[2m_client.py\u001b[0m\u001b]8;;\u001b\\\u001b[2m:\u001b[0m\u001b]8;id=819201;file:///home/jason/anaconda3/lib/python3.10/site-packages/httpx/_client.py#1013\u001b\\\u001b[2m1013\u001b[0m\u001b]8;;\u001b\\\n",
       "\u001b[2;36m           \u001b[0m         \u001b[4;94mhttps://www.sec.gov/Archives/edgar/data/720154/0000927946-06-000172-index.html\u001b[0m  \u001b[2m               \u001b[0m\n",
       "\u001b[2;36m           \u001b[0m         \u001b[32m\"HTTP/1.1 200 OK\"\u001b[0m                                                               \u001b[2m               \u001b[0m\n"
      ]
     },
     "metadata": {},
     "output_type": "display_data"
    },
    {
     "data": {
      "text/html": [
       "<pre style=\"white-space:pre;overflow-x:auto;line-height:normal;font-family:Menlo,'DejaVu Sans Mono',consolas,'Courier New',monospace\"></pre>\n"
      ],
      "text/plain": []
     },
     "metadata": {},
     "output_type": "display_data"
    },
    {
     "data": {
      "text/plain": [
       "╭───────────────────────────────── 10-K 📊 filing for BIOANALYTICAL SYSTEMS INC ──────────────────────────────────╮\n",
       "│                                                                                                                 │\n",
       "│  \u001b[1m \u001b[0m\u001b[1mAccession Number    \u001b[0m\u001b[1m \u001b[0m \u001b[1m \u001b[0m\u001b[1mFiling Date\u001b[0m\u001b[1m \u001b[0m \u001b[1m \u001b[0m\u001b[1mCompany                  \u001b[0m\u001b[1m \u001b[0m \u001b[1m \u001b[0m\u001b[1mCIK   \u001b[0m\u001b[1m \u001b[0m                                      │\n",
       "│  ─────────────────────────────────────────────────────────────────────────                                      │\n",
       "│  \u001b[1m \u001b[0m\u001b[1m0000927946-06-000172\u001b[0m\u001b[1m \u001b[0m  2006-12-29    BIOANALYTICAL SYSTEMS INC   720154                                       │\n",
       "│                                                                                                                 │\n",
       "│                                                                                                                 │\n",
       "│  \u001b[1m \u001b[0m\u001b[1mLink                   \u001b[0m\u001b[1m \u001b[0m \u001b[1m \u001b[0m\u001b[1mURL                                                                              \u001b[0m\u001b[1m \u001b[0m  │\n",
       "│  ─────────────────────────────────────────────────────────────────────────────────────────────────────────────  │\n",
       "│  \u001b[1m \u001b[0m\u001b[1m🏠 Homepage            \u001b[0m\u001b[1m \u001b[0m  https://www.sec.gov/Archives/edgar/data/720154/0000927946-06-000172-index.html      │\n",
       "│  \u001b[1m \u001b[0m\u001b[1m📄 Primary Document    \u001b[0m\u001b[1m \u001b[0m  https://www.sec.gov/Archives/edgar/data/720154/000092794606000172/bodyof10k.htm     │\n",
       "│  \u001b[1m \u001b[0m\u001b[1m📒 Full Submission Text\u001b[0m\u001b[1m \u001b[0m  https://www.sec.gov/Archives/edgar/data/720154/000092794606000172/0000927946-06-…   │\n",
       "│                                                                                                                 │\n",
       "╰─────────────────────────────────────────────────────────────────────────────────────────────────────────────────╯"
      ]
     },
     "execution_count": 26,
     "metadata": {},
     "output_type": "execute_result"
    }
   ],
   "source": [
    "filing_10k_by_year[2006][7]"
   ]
  },
  {
   "cell_type": "code",
   "execution_count": null,
   "id": "2e589d68",
   "metadata": {},
   "outputs": [],
   "source": []
  }
 ],
 "metadata": {
  "kernelspec": {
   "display_name": "Python 3 (ipykernel)",
   "language": "python",
   "name": "python3"
  },
  "language_info": {
   "codemirror_mode": {
    "name": "ipython",
    "version": 3
   },
   "file_extension": ".py",
   "mimetype": "text/x-python",
   "name": "python",
   "nbconvert_exporter": "python",
   "pygments_lexer": "ipython3",
   "version": "3.10.13"
  }
 },
 "nbformat": 4,
 "nbformat_minor": 5
}
