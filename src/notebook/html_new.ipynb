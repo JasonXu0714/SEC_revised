{
 "cells": [
  {
   "cell_type": "code",
   "execution_count": 1,
   "id": "dc019cc7",
   "metadata": {},
   "outputs": [],
   "source": [
    "from html2text import html2text\n",
    "from pathlib import Path\n",
    "from glob import glob\n",
    "from multiprocessing import Pool\n",
    "from tqdm import tqdm"
   ]
  },
  {
   "cell_type": "code",
   "execution_count": 2,
   "id": "f27c809a",
   "metadata": {},
   "outputs": [
    {
     "name": "stderr",
     "output_type": "stream",
     "text": [
      "100%|█████████████████████████████████| 605261/605261 [01:56<00:00, 5213.07it/s]\n"
     ]
    }
   ],
   "source": [
    "# read_str(file_path, encoding=\"latin1\"):\n",
    "\n",
    "# Reads the content of a file specified by file_path.\n",
    "# Returns the content as a list of lines.\n",
    "# Uses \"latin1\" encoding by default, which can be changed based on file encoding.\n",
    "def read_str(file_path, encoding=\"latin1\"):\n",
    "    \"\"\"\n",
    "    Reads the contents of a file and returns it as a list of lines.\n",
    "    \"\"\"\n",
    "    # with open(file_path, encoding=encoding) as file:: This line uses the with statement to open a file.\n",
    "    with open(file_path, encoding=encoding) as file:\n",
    "        return file.read().splitlines()\n",
    "\n",
    "# process(file_path):\n",
    "\n",
    "# Takes a file path, reads its content, and looks for specific HTML tags (</html>, </document>, </xbrl>).\n",
    "# Stops reading the file once one of these tags is found.\n",
    "# Saves the read content to a new file in a directory named first_html.\n",
    "# The directory structure of the output files mirrors that of the input files, with the only difference being the base directory name (filings replaced by first_html).\n",
    "# The commented-out line \n",
    "# converted_text = html2text(\"\\n\".join(html_content)) suggests an intention to convert HTML to plain text, \n",
    "# but it's currently not active, and instead, the HTML content is saved as is. ???\n",
    "def process(file_path):\n",
    "    \"\"\"\n",
    "    Processes each file to extract HTML content and convert it to text.\n",
    "    Saves the converted text in a specified directory.\n",
    "    \"\"\"\n",
    "    output_path = Path(file_path.replace(\"filings\", \"first_html\"))\n",
    "    output_path.parent.mkdir(exist_ok=True, parents=True)\n",
    "    \n",
    "    html_content = []\n",
    "    for line in read_str(file_path):\n",
    "        html_content.append(line)\n",
    "        if any(tag in line.lower() for tag in [\"</html>\", \"</document>\", \"</xbrl>\"]):\n",
    "            break\n",
    "\n",
    "    try:\n",
    "#         converted_text = html2text(\"\\n\".join(html_content))\n",
    "        converted_text = \"\\n\".join(html_content)\n",
    "        with open(output_path, 'w', encoding='utf-8') as output_file:\n",
    "            output_file.write(converted_text)\n",
    "    except Exception as e:\n",
    "        print(f\"Error processing file {file_path}: {e}\")\n",
    "\n",
    "def main():\n",
    "    \"\"\"\n",
    "    Main function to process files in parallel using multiprocessing.\n",
    "    \"\"\"\n",
    "    file_paths = glob(\"/Users/yanzhe.li/Documents/finance/sec_clean/data/raw_data/*\")\n",
    "    \n",
    "    with Pool(20) as pool:\n",
    "        with tqdm(total=len(file_paths)) as progress_bar:\n",
    "            for _ in pool.imap(process, file_paths):\n",
    "                progress_bar.update(1)\n",
    "# main():\n",
    "\n",
    "# This is the entry point of the script when run as a main program.\n",
    "# It finds all file paths matching the pattern filings/*/*/*/* using glob.\n",
    "# It uses a multiprocessing pool (Pool(20)) to process these files in parallel, \n",
    "# which can significantly speed up the process on multi-core systems.\n",
    "# The progress of processing is displayed using tqdm, which shows a progress bar.\n",
    "if __name__ == \"__main__\":\n",
    "    main()"
   ]
  },
  {
   "cell_type": "markdown",
   "id": "da0b41f9",
   "metadata": {},
   "source": [
    "### pd.read_html('first_html/10-X_1993-2000/')"
   ]
  }
 ],
 "metadata": {
  "kernelspec": {
   "display_name": "Python 3 (ipykernel)",
   "language": "python",
   "name": "python3"
  },
  "language_info": {
   "codemirror_mode": {
    "name": "ipython",
    "version": 3
   },
   "file_extension": ".py",
   "mimetype": "text/x-python",
   "name": "python",
   "nbconvert_exporter": "python",
   "pygments_lexer": "ipython3",
   "version": "3.10.9"
  }
 },
 "nbformat": 4,
 "nbformat_minor": 5
}
